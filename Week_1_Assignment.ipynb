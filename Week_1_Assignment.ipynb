{
 "cells": [
  {
   "cell_type": "markdown",
   "metadata": {
    "id": "t5DP3gVwIWPi"
   },
   "source": [
    "# <center> Week-1 Assignment Solutions <center>"
   ]
  },
  {
   "cell_type": "markdown",
   "metadata": {
    "id": "yE7cWpPDhZXe"
   },
   "source": [
    "#### Problem No: 1\n"
   ]
  },
  {
   "cell_type": "code",
   "execution_count": 7,
   "metadata": {
    "id": "ahU4eHL7hU19"
   },
   "outputs": [
    {
     "name": "stdout",
     "output_type": "stream",
     "text": [
      "['d', 'u', 'r', 'g', 'a', ' ', 'b', 'h', 'a', 'v', 'a', 'n', 'i']\n"
     ]
    }
   ],
   "source": [
    "def str2list(str1):\n",
    "    # write code to add each character in the string into a list format\n",
    "    # don't use any inbuilt methods\n",
    "    # input:\n",
    "        # str1 : input string\n",
    "    # output:\n",
    "        # return list (Replace None with output in return statement)    \n",
    "    ### Write your code here\n",
    "    list1 = []\n",
    "    i = 0\n",
    "    while True:\n",
    "        try:\n",
    "            list1[i:i] = [str1[i]]\n",
    "            i += 1\n",
    "        except IndexError:\n",
    "            break\n",
    "    return list1\n",
    "str1 = \"durga bhavani\"\n",
    "char_list = str2list(str1)\n",
    "print(char_list)\n",
    "\n",
    "    ### End of code"
   ]
  },
  {
   "cell_type": "markdown",
   "metadata": {
    "id": "b41Fw-aahtee"
   },
   "source": [
    "#### Problem No: 2\n"
   ]
  },
  {
   "cell_type": "code",
   "execution_count": 6,
   "metadata": {
    "id": "vp0YgjS1hukE"
   },
   "outputs": [
    {
     "name": "stdout",
     "output_type": "stream",
     "text": [
      "[[1, 5], [2, 6], [3, 7], [4, 8]]\n"
     ]
    }
   ],
   "source": [
    "def listcombine(list1, list2):\n",
    "    # write code to combine two lists into one 2D list\n",
    "    # don't use any inbuilt methods\n",
    "    # input:\n",
    "        # list1 : input list1\n",
    "        # list2 : input list2\n",
    "    # output:\n",
    "        # return the combined list (Replace None with output in return statement)\n",
    "    \n",
    "    \n",
    "    ### Write your code here\n",
    "    combined_list = []\n",
    "    i = 0\n",
    "    while True:\n",
    "        try:\n",
    "            inner_list = [list1[i], list2[i]]\n",
    "            combined_list[i:i] = [inner_list]\n",
    "            i += 1\n",
    "        except IndexError:\n",
    "            break\n",
    "    return combined_list\n",
    "print(listcombine([1,2,3,4],[5,6,7,8]))\n",
    "    \n",
    "    ### End of code"
   ]
  },
  {
   "cell_type": "markdown",
   "metadata": {
    "id": "tGPexTCviAoF"
   },
   "source": [
    "#### Problem No: 3"
   ]
  },
  {
   "cell_type": "code",
   "execution_count": 10,
   "metadata": {
    "id": "v3UdFh-CiD4u"
   },
   "outputs": [
    {
     "name": "stdout",
     "output_type": "stream",
     "text": [
      "[5, 4, 3, 2, 1]\n"
     ]
    }
   ],
   "source": [
    "def reverselist(list1):\n",
    "    # write code to reverse the elements in a list\n",
    "    # don't use any inbuilt methods\n",
    "    # input:\n",
    "        # list1 : input list1\n",
    "    # output:\n",
    "        # retun the reversed list (Replace None with output in return statement)\n",
    "\n",
    "\n",
    "    ### Write your code here\n",
    "    k = []\n",
    "    for i in range(len(list1), 0, -1):\n",
    "        k += [list1[i-1]]\n",
    "    return k\n",
    "print(reverselist([1,2,3,4,5]))  # Output: [5, 4, 3, 2, 1]\n",
    "\n",
    "    \n",
    "    ### End of code"
   ]
  },
  {
   "cell_type": "markdown",
   "metadata": {
    "id": "_8B-ZTGkiIz_"
   },
   "source": [
    "#### Problem No: 4"
   ]
  },
  {
   "cell_type": "code",
   "execution_count": 11,
   "metadata": {
    "id": "iNMij6djiMUt"
   },
   "outputs": [
    {
     "name": "stdout",
     "output_type": "stream",
     "text": [
      "{'name': 'John', 'age': '30', 'gender': 'Male'}\n"
     ]
    }
   ],
   "source": [
    "def createdict(keys, values):\n",
    "    # write code to create a dictionary with keys & values lists\n",
    "    # input:\n",
    "        # keys : input list of keys\n",
    "        # values : input list of values\n",
    "    # output:\n",
    "        # return the dictionary (Replace None with output in return statement)\n",
    "\n",
    "\n",
    "    ### Write your code here\n",
    "    my_dict = {}\n",
    "    count = 0\n",
    "    for key in keys:\n",
    "        my_dict[key] = values[count]\n",
    "        count += 1\n",
    "    return my_dict\n",
    "keys = ['name', 'age', 'gender']\n",
    "values = ['John', '30', 'Male']\n",
    "print(createdict(keys, values)) \n",
    "\n",
    "    \n",
    "    ### End of code"
   ]
  },
  {
   "cell_type": "markdown",
   "metadata": {
    "id": "TYt62cDOiYle"
   },
   "source": [
    "#### Problem No: 5"
   ]
  },
  {
   "cell_type": "code",
   "execution_count": 12,
   "metadata": {
    "id": "YfiJSAz8iZMt"
   },
   "outputs": [
    {
     "name": "stdout",
     "output_type": "stream",
     "text": [
      "3\n"
     ]
    }
   ],
   "source": [
    "def string_occurence(str1, sub_str):\n",
    "    # Check if a string contains a specific substring given as input.\n",
    "    # If the string search is successful then return the number of occurrences otherwise 0.\n",
    "    # input:\n",
    "        # str1: input string\n",
    "        # stb_str: input substring\n",
    "    # output: \n",
    "        # number of occurences of substring in string (Replace None with output in return statement)\n",
    "    \n",
    "    ### Write your code here\n",
    "    count = 0\n",
    "    i = 0\n",
    "    while True:\n",
    "        if str1[i:i+1] == '':\n",
    "            break\n",
    "        if str1[i:i+1] == sub_str:\n",
    "            count += 1\n",
    "        i += 1\n",
    "    return count\n",
    "str1 = \"hello world\"\n",
    "sub_str = \"l\"\n",
    "print(string_occurence(str1, sub_str))\n",
    "\n",
    "    ### End of code"
   ]
  },
  {
   "cell_type": "markdown",
   "metadata": {
    "id": "bz-ZMJCGifjg"
   },
   "source": [
    "#### Problem No: 6"
   ]
  },
  {
   "cell_type": "code",
   "execution_count": 13,
   "metadata": {
    "id": "h4ru_eWAigLI"
   },
   "outputs": [
    {
     "name": "stdout",
     "output_type": "stream",
     "text": [
      "True\n"
     ]
    }
   ],
   "source": [
    "def perfectnumbercheck(num):\n",
    "    # write code to check given number is perfect or not\n",
    "    # Hint: return True or False\n",
    "    # input:\n",
    "        # num : input number\n",
    "    # output:\n",
    "        # return boolean value (Replace None with output in return statement)\n",
    "\n",
    "\n",
    "    ### Write your code here\n",
    "    sum_of_divisors = 0\n",
    "    i = 1\n",
    "    while i < num:\n",
    "        if num % i == 0:\n",
    "            sum_of_divisors += i\n",
    "        i += 1\n",
    "    if sum_of_divisors == num:\n",
    "        return True\n",
    "    else:\n",
    "        return False\n",
    "print(perfectnumbercheck(6))\n",
    "\n",
    "    \n",
    "    \n",
    "    ### End of code"
   ]
  },
  {
   "cell_type": "markdown",
   "metadata": {
    "id": "DceitnVmikCm"
   },
   "source": [
    "#### Problem No: 7"
   ]
  },
  {
   "cell_type": "code",
   "execution_count": 1,
   "metadata": {
    "id": "R8ZGyY8LioOE"
   },
   "outputs": [
    {
     "name": "stdout",
     "output_type": "stream",
     "text": [
      "True\n",
      "False\n"
     ]
    }
   ],
   "source": [
    "def passwordstrengthcheck(password):\n",
    "    # check below conditions for the given password & return True if it pass otherwise False.\n",
    "    # At least 1 small letter [a-z] and 1 capital letter [A-Z].\n",
    "    # At least 1 digit [0-9].\n",
    "    # At least 1 special character from [$#@].\n",
    "    # Minimum length 6 characters.\n",
    "    # Maximum length 16 characters.\n",
    "    # input:\n",
    "        # password: input string\n",
    "    # output:\n",
    "        # return boolean value (Replace None with output in return statement)\n",
    "\n",
    "\n",
    "    ### Write your code here\n",
    "    if len(password) < 6 or len(password) > 16:\n",
    "        return False\n",
    "    has_small_letter = False\n",
    "    has_capital_letter = False\n",
    "    has_digit = False\n",
    "    for char in password:\n",
    "        if char.islower():\n",
    "            has_small_letter = True\n",
    "        elif char.isupper():\n",
    "            has_capital_letter = True\n",
    "        elif char.isdigit():\n",
    "            has_digit = True\n",
    "        if has_small_letter and has_capital_letter and has_digit:\n",
    "            break\n",
    "    else:\n",
    "        return False\n",
    "    has_special_char = False\n",
    "    for char in password:\n",
    "        if char in ['$','#','@']:\n",
    "            has_special_char = True\n",
    "            break\n",
    "    else:\n",
    "        return False\n",
    "    return True\n",
    "password1 = \"Passw0rd#\"\n",
    "print(passwordstrengthcheck(password1))  \n",
    "password2 = \"abc123\"\n",
    "print(passwordstrengthcheck(password2))\n",
    "\n",
    "    \n",
    "\n",
    "\n",
    "    ### End of code"
   ]
  },
  {
   "cell_type": "markdown",
   "metadata": {
    "id": "3gbKdkHAi0SC"
   },
   "source": [
    "#### Problem No: 8"
   ]
  },
  {
   "cell_type": "code",
   "execution_count": 6,
   "metadata": {
    "id": "xgicShJKi0zA"
   },
   "outputs": [
    {
     "name": "stdout",
     "output_type": "stream",
     "text": [
      "{'durga': 1, 'bhavani': 1, 'is': 2, 'a': 1, 'good': 1, 'girl': 1, 'and': 1, 'she': 1, 'very': 1, 'clever': 1}\n"
     ]
    }
   ],
   "source": [
    "def wordfrequency(str1):\n",
    "    # Find out the frequency of words in a given string (prompted by the user) using dictionaries \n",
    "    # words frequency must be case-insensitive\n",
    "    # Hint: return a dictionary with unique words in the string as keys and theier frequency as the values\n",
    "    # input:\n",
    "        # str1 : input str1\n",
    "    # output:\n",
    "        # retrun the dictionary (Replace None with output in return statement)\n",
    "         \n",
    "    ### Write your code here\n",
    "    str1 = str1.lower()\n",
    "\n",
    "    words = str1.split()\n",
    "    freq_dict = {}\n",
    "    for word in words:\n",
    "        if word in freq_dict:\n",
    "            freq_dict[word] += 1\n",
    "        else:\n",
    "            freq_dict[word] = 1\n",
    "    return freq_dict\n",
    "# Example usage\n",
    "str1 = \"durga bhavani is a good girl and she is very clever\"\n",
    "print(wordfrequency(str1))\n",
    "\n",
    "\n",
    "    ### End of code"
   ]
  },
  {
   "cell_type": "markdown",
   "metadata": {
    "id": "4VzKnYm9i8uG"
   },
   "source": [
    "#### Problem No: 9"
   ]
  },
  {
   "cell_type": "code",
   "execution_count": 12,
   "metadata": {
    "id": "YOh2XFuqi9SJ"
   },
   "outputs": [
    {
     "name": "stdout",
     "output_type": "stream",
     "text": [
      "3\n"
     ]
    }
   ],
   "source": [
    "def primenumcount(list1):\n",
    "    # Write a function that can take a list of integers as function arguments and count the number of prime numbers in it (You can use inbuilt methods).\n",
    "    # If the prime number count below the len(list)/4 then return \"1\"\n",
    "    # If the prime number count between len(list)/4 and len(list)/2 then return \"2\" (boundary points included).\n",
    "    # If the prime number count above the len(list)/2 then return “3”.\n",
    "    # input:\n",
    "        # list1: input list of integers\n",
    "    # output:\n",
    "        # return count of prime (Replace None with output in return statement)\n",
    "    prime_count = 0\n",
    "    for num in list1:\n",
    "        if num > 1:\n",
    "            for i in range(2, num):\n",
    "                if (num % i) == 0:\n",
    "                    break\n",
    "            else:\n",
    "                prime_count += 1\n",
    "    if prime_count < len(list1) / 4:\n",
    "        return \"1\"\n",
    "    elif prime_count >= len(list1) / 4 and prime_count <= len(list1) / 2:\n",
    "        return \"2\"\n",
    "    else:\n",
    "        return \"3\"\n",
    "list1 = [2, 3, 5, 7, 11, 13, 17, 19, 23, 29, 31, 37, 41, 43, 47, 53, 59, 61, 67, 71, 73, 79, 83, 89, 97]\n",
    "result = primenumcount(list1)\n",
    "print(result)\n",
    "    ### End of code"
   ]
  },
  {
   "cell_type": "markdown",
   "metadata": {
    "id": "2BsFdnKyjDGT"
   },
   "source": [
    "#### Problem No: 10"
   ]
  },
  {
   "cell_type": "code",
   "execution_count": 14,
   "metadata": {
    "id": "IyrHjMqFjDmQ"
   },
   "outputs": [
    {
     "name": "stdout",
     "output_type": "stream",
     "text": [
      "['world', 'durga', 'bhavani']\n"
     ]
    }
   ],
   "source": [
    "def unique_words(str1, length):\n",
    "    # Write a function that can take a string and an integer as function arguments and display \n",
    "    # the unique words (words are case-insensitive) that can meet the condition i.e. word length >= given integer \n",
    "    # (Don’t use any inbuilt method for removing duplicate words).\n",
    "    \n",
    "    # input:\n",
    "        # str1 : input string\n",
    "        # length : string length\n",
    "    # output:\n",
    "        # list of unique words those meets the above condition (Replace None with output in return statement)\n",
    "         \n",
    "    ### Write your code here\n",
    "    unique_words = []\n",
    "    words = str1.lower().split()\n",
    "    for word in words:\n",
    "        if len(word) >= length:\n",
    "            is_unique = True\n",
    "            for unique_word in unique_words:\n",
    "                if word.lower() == unique_word.lower():\n",
    "                    is_unique = False\n",
    "                    break\n",
    "            if is_unique:\n",
    "                unique_words.append(word)\n",
    "    return unique_words\n",
    "input_str = \"my world is durga bhavani\"\n",
    "unique_words_list = unique_words(input_str, 4)\n",
    "print(unique_words_list)\n",
    "\n",
    "    \n",
    "    \n",
    "    ### End of code"
   ]
  }
 ],
 "metadata": {
  "colab": {
   "provenance": []
  },
  "kernelspec": {
   "display_name": "Python 3 (ipykernel)",
   "language": "python",
   "name": "python3"
  },
  "language_info": {
   "codemirror_mode": {
    "name": "ipython",
    "version": 3
   },
   "file_extension": ".py",
   "mimetype": "text/x-python",
   "name": "python",
   "nbconvert_exporter": "python",
   "pygments_lexer": "ipython3",
   "version": "3.10.9"
  },
  "vscode": {
   "interpreter": {
    "hash": "11938c6bc6919ae2720b4d5011047913343b08a43b18698fd82dedb0d4417594"
   }
  }
 },
 "nbformat": 4,
 "nbformat_minor": 1
}
